{
 "cells": [
  {
   "cell_type": "markdown",
   "metadata": {},
   "source": [
    "#### 核心知识：Q-learning算法和SARSA算法\n",
    "\n",
    "Q-learning:\n",
    "\n",
    "$Q(s_t,a_t)=Q(s_t,a_t)+\\alpha [r_t+\\gamma \\max_a Q(s_{t+1},a)-Q(s_t,a_t)]$\n",
    "\n",
    "SARSA:\n",
    "\n",
    "$Q(s_t, a_t)=Q(s_t,a_t)+\\alpha[r_t+\\gamma Q(s_{t+1},a_{t+1})-Q(s_t,a_t)]$"
   ]
  },
  {
   "cell_type": "code",
   "execution_count": null,
   "metadata": {},
   "outputs": [],
   "source": [
    "# 引入对应的包\n",
    "import gymnasium as gym\n",
    "import numpy as np\n",
    "from collections import deque\n",
    "import matplotlib.pyplot as plt\n",
    "from tqdm import trange"
   ]
  },
  {
   "cell_type": "markdown",
   "metadata": {},
   "source": [
    "强化学习训练中具备很多超参数，这里采用Config类进行管理，其中：\n",
    "* obs_size：状态空间\n",
    "* act_size：动作空间\n",
    "* max_timestep：单轮最大迭代次数\n",
    "* num_episode：训练回合数\n",
    "* plot_every：画图的滑窗\n",
    "* alpha：学习率\n",
    "* gamma：折扣因子\n",
    "* epsilon：探索与利用的超参（后面会接触到）"
   ]
  },
  {
   "cell_type": "code",
   "execution_count": null,
   "metadata": {},
   "outputs": [],
   "source": [
    "class Configs:\n",
    "    def __init__(self, \n",
    "                 env, \n",
    "                 max_timestep=300, \n",
    "                 num_episode=10000,\n",
    "                 plot_every=100,\n",
    "                 alpha=0.4,\n",
    "                 gamma=0.99,\n",
    "                 epsilon=0.1,\n",
    "                 ):\n",
    "        self.obs_size = env.observation_space.n\n",
    "        self.act_size = env.action_space.n\n",
    "\n",
    "        self.max_timestep = max_timestep\n",
    "        self.num_episode = num_episode\n",
    "        self.plot_every = plot_every\n",
    "\n",
    "        self.alpha = alpha\n",
    "        self.gamma = gamma\n",
    "        self.epsilon = epsilon"
   ]
  },
  {
   "cell_type": "markdown",
   "metadata": {},
   "source": [
    "此处定义$\\epsilon$-greedy的探索方法：\n",
    "* 生成一个0～1之间的随机数\n",
    "* 如果该随机数小于$\\epsilon$则随机在动作空间中选择一个行为\n",
    "* 如果随机数大于$\\epsilon$则选择当前策略下的最优行为"
   ]
  },
  {
   "cell_type": "code",
   "execution_count": null,
   "metadata": {},
   "outputs": [],
   "source": [
    "def epsilon_greedy(q, timestep, epsilon=None, test=False):\n",
    "    if test == True:\n",
    "        prob = np.zeros_like(q)\n",
    "        prob[np.argmax(q)] = 1\n",
    "        return prob\n",
    "    epsilon = 1.0 / max(timestep, 1.0) if epsilon is None else epsilon\n",
    "\n",
    "    prob = np.ones_like(q) * epsilon / q.shape[0]\n",
    "    prob[np.argmax(q)] = (1 - epsilon) + epsilon / q.shape[0]\n",
    "    return prob"
   ]
  },
  {
   "cell_type": "markdown",
   "metadata": {},
   "source": [
    "此处定义Q值更新的函数，请根据TD更新公式完成td_target和q值的更新"
   ]
  },
  {
   "cell_type": "code",
   "execution_count": 20,
   "metadata": {},
   "outputs": [],
   "source": [
    "def update_q_value(q, q_next, reward, alpha, gamma):\n",
    "    \"\"\"\n",
    "    TODO: \n",
    "    请填写td_target和对应的q值更新\n",
    "    \"\"\"\n",
    "    \n",
    "    return "
   ]
  },
  {
   "cell_type": "markdown",
   "metadata": {},
   "source": [
    "首先实现SARSA算法"
   ]
  },
  {
   "cell_type": "code",
   "execution_count": null,
   "metadata": {},
   "outputs": [],
   "source": [
    "def sarsa(env, config):\n",
    "    # 初始化Q值表格\n",
    "    q_values = np.zeros([config.obs_size, config.act_size], dtype=np.float32)\n",
    "\n",
    "    # 初始化表现滑窗\n",
    "    scores = deque(maxlen=config.plot_every)\n",
    "    avg_scores = deque(maxlen=config.num_episode)\n",
    "\n",
    "    # 迭代最大回合\n",
    "    for episode in trange(1, config.num_episode + 1):\n",
    "        reward_sum = 0\n",
    "        state, _ = env.reset()\n",
    "        action_set = np.arange(config.act_size)\n",
    "        \n",
    "        # 利用epsilon_greedy方法计算行为选择概率\n",
    "        prob = epsilon_greedy(q_values[state], 1, config.epsilon)\n",
    "        # 根据概率进行行为选择\n",
    "        action = np.random.choice(action_set, p=prob)\n",
    "        \n",
    "        # 迭代最大时间步\n",
    "        for timestep in np.arange(config.max_timestep):\n",
    "\n",
    "            env_feedbacks = env.step(action)\n",
    "            next_state, reward, done = env_feedbacks[0], env_feedbacks[1], env_feedbacks[2]\n",
    "\n",
    "            reward_sum += reward\n",
    "\n",
    "            # 通过epsilon_greedy方法计算下一个状态的行为选择\n",
    "            next_prob = epsilon_greedy(q_values[next_state], episode, config.epsilon)\n",
    "            next_action = np.random.choice(action_set, p=next_prob)\n",
    "\n",
    "            \"\"\"\n",
    "            TODO: \n",
    "            请填写next_q_value的值\n",
    "            \"\"\"\n",
    "            next_q_value = None\n",
    "            q_values[state, action] = update_q_value(q_values[state, action], 0 if done else next_q_value, reward, config.alpha, config.gamma)\n",
    "\n",
    "            if done:\n",
    "                break\n",
    "\n",
    "            state, action = next_state, next_action\n",
    "\n",
    "        scores.append(reward_sum)\n",
    "                \n",
    "        if episode % config.plot_every == 0:\n",
    "            avg_scores.append(np.mean(scores))\n",
    "    \n",
    "    plt.plot(np.linspace(0, config.num_episode, len(avg_scores), endpoint=False), avg_scores, label=\"SARSA\")\n",
    "    plt.xlabel('Episode Number')\n",
    "    plt.ylabel(f'Average Reward (Over Next {config.plot_every} Episodes)')\n",
    "\n",
    "    print(f\"Best Average Reward over {config.plot_every} Episodes: \", np.max(scores))\n",
    "        \n",
    "    return q_values\n"
   ]
  },
  {
   "cell_type": "markdown",
   "metadata": {},
   "source": [
    "此时画出对应的迭代轮次-跑分曲线："
   ]
  },
  {
   "cell_type": "code",
   "execution_count": null,
   "metadata": {},
   "outputs": [],
   "source": [
    "env = gym.make(\"CliffWalking-v0\", render_mode=\"rgb_array\")\n",
    "print(env.action_space)\n",
    "print(env.observation_space)\n",
    "\n",
    "config = Configs(env, max_timestep=200, num_episode=20000, plot_every=100)\n",
    "\n",
    "q_tables = sarsa(env, config)\n",
    "\n",
    "# plot the curves\n",
    "plt.legend()\n",
    "plt.show()"
   ]
  },
  {
   "cell_type": "markdown",
   "metadata": {},
   "source": [
    "此时我们可以通过sarsa函数返回的q_table查看每一个状态-行为值\n",
    "\n",
    "同时利用该q_table进行可视化测试："
   ]
  },
  {
   "cell_type": "code",
   "execution_count": null,
   "metadata": {},
   "outputs": [],
   "source": [
    "env = gym.make(\"CliffWalking-v0\", render_mode=\"human\")\n",
    "state, _ = env.reset()\n",
    "action_set = np.arange(config.act_size)\n",
    "\n",
    "# 利用epsilon_greedy方法计算行为选择概率\n",
    "prob = epsilon_greedy(q_tables[state], 1, config.epsilon, test=True)\n",
    "# 根据概率进行行为选择\n",
    "action = np.random.choice(action_set, p=prob)\n",
    "\n",
    "# 迭代最大时间步\n",
    "for timestep in np.arange(config.max_timestep):\n",
    "\n",
    "    env_feedbacks = env.step(action)\n",
    "    next_state, reward, done = env_feedbacks[0], env_feedbacks[1], env_feedbacks[2]\n",
    "\n",
    "    # 通过epsilon_greedy方法计算下一个状态的行为选择\n",
    "    next_prob = epsilon_greedy(q_tables[next_state], 10000, config.epsilon, test=True)\n",
    "    next_action = np.random.choice(action_set, p=next_prob)\n",
    "\n",
    "    next_q_value = q_tables[next_state, next_action]\n",
    "    q_tables[state, action] = update_q_value(q_tables[state, action], 0 if done else next_q_value, reward, config.alpha, config.gamma)\n",
    "\n",
    "    if done:\n",
    "        break\n",
    "\n",
    "    state, action = next_state, next_action"
   ]
  },
  {
   "cell_type": "markdown",
   "metadata": {},
   "source": [
    "##### 实验2练习\n",
    "\n",
    "根据上面的sarsa算法实现，完成q_learning算法实现。"
   ]
  },
  {
   "cell_type": "code",
   "execution_count": null,
   "metadata": {},
   "outputs": [],
   "source": [
    "def q_learning(env, config):\n",
    "    q_values = np.zeros([config.obs_size, config.act_size], dtype=np.float32)\n",
    "\n",
    "    return q_values\n"
   ]
  },
  {
   "cell_type": "code",
   "execution_count": null,
   "metadata": {},
   "outputs": [],
   "source": [
    "# 测试\n",
    "env = gym.make(\"CliffWalking-v0\", render_mode=\"rgb_array\")\n",
    "print(env.action_space)\n",
    "print(env.observation_space)\n",
    "\n",
    "config = Configs(env, max_timestep=200, num_episode=20000, plot_every=100)\n",
    "\n",
    "q_tables = q_learning(env, config)\n",
    "\n",
    "# plot the curves\n",
    "plt.legend()\n",
    "plt.show()  "
   ]
  },
  {
   "cell_type": "code",
   "execution_count": null,
   "metadata": {},
   "outputs": [],
   "source": [
    "env = gym.make(\"CliffWalking-v0\", render_mode=\"human\")\n",
    "state, _ = env.reset()\n",
    "action_set = np.arange(config.act_size)\n",
    "\n",
    "# 利用epsilon_greedy方法计算行为选择概率\n",
    "prob = epsilon_greedy(q_tables[state], 1, config.epsilon, test=True)\n",
    "# 根据概率进行行为选择\n",
    "action = np.random.choice(action_set, p=prob)\n",
    "\n",
    "# 迭代最大时间步\n",
    "for timestep in np.arange(config.max_timestep):\n",
    "\n",
    "    env_feedbacks = env.step(action)\n",
    "    next_state, reward, done = env_feedbacks[0], env_feedbacks[1], env_feedbacks[2]\n",
    "\n",
    "    # 通过epsilon_greedy方法计算下一个状态的行为选择\n",
    "    next_prob = epsilon_greedy(q_tables[next_state], 10000, config.epsilon, test=True)\n",
    "    next_action = np.random.choice(action_set, p=next_prob)\n",
    "\n",
    "    next_q_value = q_tables[next_state, next_action]\n",
    "    q_tables[state, action] = update_q_value(q_tables[state, action], 0 if done else next_q_value, reward, config.alpha, config.gamma)\n",
    "\n",
    "    if done:\n",
    "        break\n",
    "\n",
    "    state, action = next_state, next_action"
   ]
  },
  {
   "cell_type": "markdown",
   "metadata": {},
   "source": [
    "对比human设定下的sarsa算法与q_learning算法动画，可以得出什么结论？"
   ]
  },
  {
   "cell_type": "markdown",
   "metadata": {},
   "source": []
  }
 ],
 "metadata": {
  "kernelspec": {
   "display_name": "smac",
   "language": "python",
   "name": "python3"
  },
  "language_info": {
   "codemirror_mode": {
    "name": "ipython",
    "version": 3
   },
   "file_extension": ".py",
   "mimetype": "text/x-python",
   "name": "python",
   "nbconvert_exporter": "python",
   "pygments_lexer": "ipython3",
   "version": "3.11.0"
  }
 },
 "nbformat": 4,
 "nbformat_minor": 2
}
