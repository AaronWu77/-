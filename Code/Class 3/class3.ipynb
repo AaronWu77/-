{
 "cells": [
  {
   "cell_type": "markdown",
   "metadata": {},
   "source": [
    "A Simple RNN Task: 利用RNN的二元分类网络区分不同函数"
   ]
  },
  {
   "cell_type": "code",
   "execution_count": 10,
   "metadata": {},
   "outputs": [
    {
     "name": "stdout",
     "output_type": "stream",
     "text": [
      "Requirement already satisfied: torch in /home/aaronwu/anaconda3/envs/pytorch/lib/python3.12/site-packages (2.5.1)\n",
      "Requirement already satisfied: numpy in /home/aaronwu/anaconda3/envs/pytorch/lib/python3.12/site-packages (2.0.1)\n",
      "Requirement already satisfied: matplotlib in /home/aaronwu/anaconda3/envs/pytorch/lib/python3.12/site-packages (3.10.3)\n",
      "Requirement already satisfied: filelock in /home/aaronwu/anaconda3/envs/pytorch/lib/python3.12/site-packages (from torch) (3.17.0)\n",
      "Requirement already satisfied: typing-extensions>=4.8.0 in /home/aaronwu/anaconda3/envs/pytorch/lib/python3.12/site-packages (from torch) (4.12.2)\n",
      "Requirement already satisfied: setuptools in /home/aaronwu/anaconda3/envs/pytorch/lib/python3.12/site-packages (from torch) (78.1.1)\n",
      "Requirement already satisfied: sympy==1.13.1 in /home/aaronwu/anaconda3/envs/pytorch/lib/python3.12/site-packages (from torch) (1.13.1)\n",
      "Requirement already satisfied: networkx in /home/aaronwu/anaconda3/envs/pytorch/lib/python3.12/site-packages (from torch) (3.4.2)\n",
      "Requirement already satisfied: jinja2 in /home/aaronwu/anaconda3/envs/pytorch/lib/python3.12/site-packages (from torch) (3.1.6)\n",
      "Requirement already satisfied: fsspec in /home/aaronwu/anaconda3/envs/pytorch/lib/python3.12/site-packages (from torch) (2025.5.1)\n",
      "Requirement already satisfied: mpmath<1.4,>=1.1.0 in /home/aaronwu/anaconda3/envs/pytorch/lib/python3.12/site-packages (from sympy==1.13.1->torch) (1.3.0)\n",
      "Requirement already satisfied: contourpy>=1.0.1 in /home/aaronwu/anaconda3/envs/pytorch/lib/python3.12/site-packages (from matplotlib) (1.3.2)\n",
      "Requirement already satisfied: cycler>=0.10 in /home/aaronwu/anaconda3/envs/pytorch/lib/python3.12/site-packages (from matplotlib) (0.12.1)\n",
      "Requirement already satisfied: fonttools>=4.22.0 in /home/aaronwu/anaconda3/envs/pytorch/lib/python3.12/site-packages (from matplotlib) (4.58.4)\n",
      "Requirement already satisfied: kiwisolver>=1.3.1 in /home/aaronwu/anaconda3/envs/pytorch/lib/python3.12/site-packages (from matplotlib) (1.4.8)\n",
      "Requirement already satisfied: packaging>=20.0 in /home/aaronwu/anaconda3/envs/pytorch/lib/python3.12/site-packages (from matplotlib) (25.0)\n",
      "Requirement already satisfied: pillow>=8 in /home/aaronwu/anaconda3/envs/pytorch/lib/python3.12/site-packages (from matplotlib) (11.1.0)\n",
      "Requirement already satisfied: pyparsing>=2.3.1 in /home/aaronwu/anaconda3/envs/pytorch/lib/python3.12/site-packages (from matplotlib) (3.2.3)\n",
      "Requirement already satisfied: python-dateutil>=2.7 in /home/aaronwu/anaconda3/envs/pytorch/lib/python3.12/site-packages (from matplotlib) (2.9.0.post0)\n",
      "Requirement already satisfied: six>=1.5 in /home/aaronwu/anaconda3/envs/pytorch/lib/python3.12/site-packages (from python-dateutil>=2.7->matplotlib) (1.17.0)\n",
      "Requirement already satisfied: MarkupSafe>=2.0 in /home/aaronwu/anaconda3/envs/pytorch/lib/python3.12/site-packages (from jinja2->torch) (3.0.2)\n",
      "Note: you may need to restart the kernel to use updated packages.\n"
     ]
    }
   ],
   "source": [
    "%pip install torch numpy matplotlib \n",
    "# restart kernel after installation"
   ]
  },
  {
   "cell_type": "code",
   "execution_count": 11,
   "metadata": {},
   "outputs": [],
   "source": [
    "import torch\n",
    "import torch.nn as nn\n",
    "import torch.nn.functional as F\n",
    "import torch.optim as optim\n",
    "\n",
    "import numpy as np\n",
    "\n",
    "%matplotlib inline\n",
    "import matplotlib.pyplot as plt"
   ]
  },
  {
   "cell_type": "code",
   "execution_count": 12,
   "metadata": {},
   "outputs": [],
   "source": [
    "DATA_SIZE = 1000\n",
    "\n",
    "sine_data_size = np.random.randint(int(0.3 * DATA_SIZE), int(0.7 * DATA_SIZE))\n",
    "sigmoid_data_size = DATA_SIZE - sine_data_size\n",
    "\n",
    "steps = np.arange(0, 10, 0.5)\n",
    "\n",
    "# generate sine-like function samples\n",
    "sine_init = np.random.uniform(-3, 3, (sine_data_size, 2))  # randomize a and b for sin(ax+b)\n",
    "sine_data = np.sin(sine_init[:, :1] * steps + sine_init[:, 1:])\n",
    "\n",
    "# generate sigmoid-like function samples\n",
    "sigmoid_init = np.random.uniform(-3, 3, (sigmoid_data_size, 2)) # randomize a and b for 1/(1+e^(-ax+b))\n",
    "sigmoid_data = 1 / (1 + np.exp(0 - sigmoid_init[:, :1] * steps + sigmoid_init[:, 1:]))"
   ]
  },
  {
   "cell_type": "code",
   "execution_count": 13,
   "metadata": {},
   "outputs": [
    {
     "data": {
      "text/plain": [
       "[<matplotlib.lines.Line2D at 0x7e6660707f50>]"
      ]
     },
     "execution_count": 13,
     "metadata": {},
     "output_type": "execute_result"
    },
    {
     "data": {
      "image/png": "[encoded data removed]",
      "text/plain": [
       "<Figure size 640x480 with 2 Axes>"
      ]
     },
     "metadata": {},
     "output_type": "display_data"
    }
   ],
   "source": [
    "fig, axs = plt.subplots(1, 2)\n",
    "axs[0].plot(sine_data[0])\n",
    "axs[1].plot(sigmoid_data[1])"
   ]
  },
  {
   "cell_type": "code",
   "execution_count": 14,
   "metadata": {},
   "outputs": [],
   "source": [
    "# mix data\n",
    "sine_data = np.concatenate((sine_data, np.ones((sine_data_size, 1))), axis=1)\n",
    "sigmoid_data = np.concatenate((sigmoid_data, np.zeros((sigmoid_data_size, 1))), axis=1)\n",
    "data = np.concatenate((sine_data, sigmoid_data), axis=0)\n",
    "data = torch.Tensor(data)"
   ]
  },
  {
   "cell_type": "code",
   "execution_count": 15,
   "metadata": {},
   "outputs": [],
   "source": [
    "# split two datasets\n",
    "\n",
    "from torch.utils.data import random_split\n",
    "train_set, test_set = random_split(data, [0.8, 0.2])\n"
   ]
  },
  {
   "cell_type": "code",
   "execution_count": 16,
   "metadata": {},
   "outputs": [],
   "source": [
    "# define network\n",
    "\n",
    "class SimpleClassificationRNN(nn.Module):\n",
    "    def __init__(self, hidden_size):\n",
    "        super(SimpleClassificationRNN, self).__init__()\n",
    "        '''\n",
    "        task 1: write network structure here using nn.RNN\n",
    "        '''\n",
    "\n",
    "    def forward(self, seq, hc=None):\n",
    "        '''\n",
    "        task 2: write forward process\n",
    "        '''\n",
    "        return # out, hc"
   ]
  },
  {
   "cell_type": "code",
   "execution_count": 17,
   "metadata": {},
   "outputs": [],
   "source": [
    "hidden_size = 16\n",
    "learning_rate = 0.01\n",
    "\n",
    "model = SimpleClassificationRNN(hidden_size)\n",
    "\n",
    "'''\n",
    "task 3: select appropriate criterion and optimizer\n",
    "'''\n",
    "criterion = None\n",
    "optimizer = None\n"
   ]
  },
  {
   "cell_type": "code",
   "execution_count": 18,
   "metadata": {},
   "outputs": [],
   "source": [
    "def cal_accuracy(preds, true_values):\n",
    "    preds = torch.where(preds>0.5, 1, 0)\n",
    "    acc = torch.sum(1-torch.abs(preds-true_values)) / preds.shape[0]\n",
    "    return acc"
   ]
  },
  {
   "cell_type": "code",
   "execution_count": 19,
   "metadata": {},
   "outputs": [
    {
     "ename": "AttributeError",
     "evalue": "'NoneType' object has no attribute 'zero_grad'",
     "output_type": "error",
     "traceback": [
      "\u001b[31m---------------------------------------------------------------------------\u001b[39m",
      "\u001b[31mAttributeError\u001b[39m                            Traceback (most recent call last)",
      "\u001b[36mCell\u001b[39m\u001b[36m \u001b[39m\u001b[32mIn[19]\u001b[39m\u001b[32m, line 6\u001b[39m\n\u001b[32m      4\u001b[39m loss_log = []\n\u001b[32m      5\u001b[39m \u001b[38;5;28;01mfor\u001b[39;00m epoch \u001b[38;5;129;01min\u001b[39;00m \u001b[38;5;28mrange\u001b[39m(epochs):\n\u001b[32m----> \u001b[39m\u001b[32m6\u001b[39m     \u001b[43moptimizer\u001b[49m\u001b[43m.\u001b[49m\u001b[43mzero_grad\u001b[49m()\n\u001b[32m      7\u001b[39m     output, _ = model(train_set[:][:, :-\u001b[32m1\u001b[39m, np.newaxis])\n\u001b[32m      8\u001b[39m     loss = criterion(output.view(-\u001b[32m1\u001b[39m), train_set[:][:, -\u001b[32m1\u001b[39m])\n",
      "\u001b[31mAttributeError\u001b[39m: 'NoneType' object has no attribute 'zero_grad'"
     ]
    }
   ],
   "source": [
    "# training ...\n",
    "\n",
    "epochs = 500\n",
    "loss_log = []\n",
    "for epoch in range(epochs):\n",
    "    optimizer.zero_grad()\n",
    "    output, _ = model(train_set[:][:, :-1, np.newaxis])\n",
    "    loss = criterion(output.view(-1), train_set[:][:, -1])\n",
    "    acc = cal_accuracy(output.view(-1), train_set[:][:, -1])\n",
    "    loss.backward()\n",
    "    optimizer.step()\n",
    "    if epoch % 10 == 0:\n",
    "        print(\"Epoch {}: loss {} acc {}\".format(epoch, loss.item(), acc))"
   ]
  },
  {
   "cell_type": "code",
   "execution_count": null,
   "metadata": {},
   "outputs": [],
   "source": [
    "# performance on test set\n",
    "\n",
    "output, _ = model(test_set[:][:, :-1, np.newaxis])\n",
    "loss = criterion(output.view(-1), test_set[:][:, -1])\n",
    "acc = cal_accuracy(output.view(-1), test_set[:][:, -1])\n",
    "\n",
    "print(\"Test set: loss {} acc {}\".format(loss.item(), acc))"
   ]
  },
  {
   "cell_type": "markdown",
   "metadata": {},
   "source": [
    "## Example Solution"
   ]
  },
  {
   "cell_type": "code",
   "execution_count": null,
   "metadata": {},
   "outputs": [],
   "source": [
    "# define network\n",
    "\n",
    "class SimpleClassificationRNN(nn.Module):\n",
    "    def __init__(self, hidden_size):\n",
    "        super(SimpleClassificationRNN, self).__init__()\n",
    "        self.rnn = nn.RNN(input_size=1,\n",
    "                          hidden_size=hidden_size,\n",
    "                          batch_first=True,\n",
    "                          num_layers=1)\n",
    "        self.linear = nn.Linear(hidden_size, 1)\n",
    "\n",
    "    def forward(self, seq, hc=None):\n",
    "        tmp, hc = self.rnn(seq, hc)\n",
    "        out = torch.sigmoid(self.linear(hc[-1, ... ,:]))\n",
    "        return out, hc"
   ]
  },
  {
   "cell_type": "code",
   "execution_count": null,
   "metadata": {},
   "outputs": [],
   "source": [
    "hidden_size = 16\n",
    "learning_rate = 0.01\n",
    "\n",
    "model = SimpleClassificationRNN(hidden_size)\n",
    "criterion = nn.BCELoss()\n",
    "optimizer = optim.Adam(model.parameters(), learning_rate)\n",
    "\n",
    "# you can also test other optimizers and learning_rate settings ..."
   ]
  },
  {
   "cell_type": "code",
   "execution_count": null,
   "metadata": {},
   "outputs": [],
   "source": [
    "def cal_accuracy(preds, true_values):\n",
    "    preds = torch.where(preds>0.5, 1, 0)\n",
    "    acc = torch.sum(1-torch.abs(preds-true_values)) / preds.shape[0]\n",
    "    return acc\n",
    "\n",
    "# you can also implement other metrics like F1 ..."
   ]
  },
  {
   "cell_type": "code",
   "execution_count": null,
   "metadata": {},
   "outputs": [
    {
     "name": "stdout",
     "output_type": "stream",
     "text": [
      "Epoch 0: loss 0.49771857261657715 acc 0.8237500190734863\n",
      "Epoch 10: loss 0.4833890497684479 acc 0.8224999904632568\n",
      "Epoch 20: loss 0.47157391905784607 acc 0.8149999976158142\n",
      "Epoch 30: loss 0.4592076539993286 acc 0.8212500214576721\n",
      "Epoch 40: loss 0.44666212797164917 acc 0.8199999928474426\n",
      "Epoch 50: loss 0.4333392083644867 acc 0.8287500143051147\n",
      "Epoch 60: loss 0.4181889593601227 acc 0.8349999785423279\n",
      "Epoch 70: loss 0.40043652057647705 acc 0.8424999713897705\n",
      "Epoch 80: loss 0.37989476323127747 acc 0.8512499928474426\n",
      "Epoch 90: loss 0.35129106044769287 acc 0.8849999904632568\n",
      "Epoch 100: loss 0.27516770362854004 acc 0.9175000190734863\n",
      "Epoch 110: loss 0.4960095286369324 acc 0.7462499737739563\n",
      "Epoch 120: loss 0.422473669052124 acc 0.8812500238418579\n",
      "Epoch 130: loss 0.37811020016670227 acc 0.8487499952316284\n",
      "Epoch 140: loss 0.3558989465236664 acc 0.8849999904632568\n",
      "Epoch 150: loss 0.3380361795425415 acc 0.8949999809265137\n",
      "Epoch 160: loss 0.31917011737823486 acc 0.8999999761581421\n",
      "Epoch 170: loss 0.29806432127952576 acc 0.90625\n",
      "Epoch 180: loss 0.27337050437927246 acc 0.9112499952316284\n",
      "Epoch 190: loss 0.24472902715206146 acc 0.9287499785423279\n",
      "Epoch 200: loss 0.2178136706352234 acc 0.9350000023841858\n",
      "Epoch 210: loss 0.18980655074119568 acc 0.9462500214576721\n",
      "Epoch 220: loss 0.15418832004070282 acc 0.956250011920929\n",
      "Epoch 230: loss 0.15146853029727936 acc 0.949999988079071\n",
      "Epoch 240: loss 0.1177418977022171 acc 0.9712499976158142\n",
      "Epoch 250: loss 0.11277126520872116 acc 0.9712499976158142\n",
      "Epoch 260: loss 0.1003720760345459 acc 0.9787499904632568\n",
      "Epoch 270: loss 0.11005690693855286 acc 0.9725000262260437\n",
      "Epoch 280: loss 0.10121233016252518 acc 0.9787499904632568\n",
      "Epoch 290: loss 0.09339982271194458 acc 0.9800000190734863\n",
      "Epoch 300: loss 0.09299371391534805 acc 0.9800000190734863\n",
      "Epoch 310: loss 0.09165988117456436 acc 0.9800000190734863\n",
      "Epoch 320: loss 0.09099190682172775 acc 0.9800000190734863\n",
      "Epoch 330: loss 0.09020547568798065 acc 0.9800000190734863\n",
      "Epoch 340: loss 0.08937272429466248 acc 0.9800000190734863\n",
      "Epoch 350: loss 0.08838888257741928 acc 0.9800000190734863\n",
      "Epoch 360: loss 0.08706509321928024 acc 0.9800000190734863\n",
      "Epoch 370: loss 0.08505861461162567 acc 0.9800000190734863\n",
      "Epoch 380: loss 0.08168422430753708 acc 0.9800000190734863\n",
      "Epoch 390: loss 0.07616585493087769 acc 0.9800000190734863\n",
      "Epoch 400: loss 0.06997714191675186 acc 0.981249988079071\n",
      "Epoch 410: loss 0.0660906434059143 acc 0.9825000166893005\n",
      "Epoch 420: loss 0.06718605756759644 acc 0.9850000143051147\n",
      "Epoch 430: loss 0.06416720151901245 acc 0.9837499856948853\n",
      "Epoch 440: loss 0.06398849189281464 acc 0.9850000143051147\n",
      "Epoch 450: loss 0.06317192316055298 acc 0.9850000143051147\n",
      "Epoch 460: loss 0.06277738511562347 acc 0.9837499856948853\n",
      "Epoch 470: loss 0.06216549500823021 acc 0.9850000143051147\n",
      "Epoch 480: loss 0.06234191358089447 acc 0.9850000143051147\n",
      "Epoch 490: loss 0.061915721744298935 acc 0.9850000143051147\n"
     ]
    }
   ],
   "source": [
    "epochs = 500\n",
    "loss_log = []\n",
    "for epoch in range(epochs):\n",
    "    optimizer.zero_grad()\n",
    "    output, _ = model(train_set[:][:, :-1, np.newaxis])\n",
    "    loss = criterion(output.view(-1), train_set[:][:, -1])\n",
    "    acc = cal_accuracy(output.view(-1), train_set[:][:, -1])\n",
    "    loss.backward()\n",
    "    optimizer.step()\n",
    "    if epoch % 10 == 0:\n",
    "        print(\"Epoch {}: loss {} acc {}\".format(epoch, loss.item(), acc))\n",
    "\n",
    "# you can also implement early stopping here ..."
   ]
  },
  {
   "cell_type": "code",
   "execution_count": null,
   "metadata": {},
   "outputs": [
    {
     "name": "stdout",
     "output_type": "stream",
     "text": [
      "Test set: loss 0.07558485120534897 acc 0.9800000190734863\n"
     ]
    }
   ],
   "source": [
    "output, _ = model(test_set[:][:, :-1, np.newaxis])\n",
    "loss = criterion(output.view(-1), test_set[:][:, -1])\n",
    "acc = cal_accuracy(output.view(-1), test_set[:][:, -1])\n",
    "\n",
    "print(\"Test set: loss {} acc {}\".format(loss.item(), acc))"
   ]
  }
 ],
 "metadata": {
  "kernelspec": {
   "display_name": "pytorch",
   "language": "python",
   "name": "python3"
  },
  "language_info": {
   "codemirror_mode": {
    "name": "ipython",
    "version": 3
   },
   "file_extension": ".py",
   "mimetype": "text/x-python",
   "name": "python",
   "nbconvert_exporter": "python",
   "pygments_lexer": "ipython3",
   "version": "3.12.11"
  }
 },
 "nbformat": 4,
 "nbformat_minor": 2
}
